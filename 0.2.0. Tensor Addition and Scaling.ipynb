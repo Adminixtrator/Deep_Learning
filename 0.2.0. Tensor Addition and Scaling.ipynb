{
 "cells": [
  {
   "cell_type": "code",
   "execution_count": 1,
   "metadata": {},
   "outputs": [
    {
     "data": {
      "text/plain": [
       "<tensorflow.python.client.session.InteractiveSession at 0x3aaeeedd48>"
      ]
     },
     "execution_count": 1,
     "metadata": {},
     "output_type": "execute_result"
    }
   ],
   "source": [
    "# Created by: ADMINIXTRATOR             Date: 9th January, 2020\n",
    "# Twitter: Adminixtrator                Email: minixtrator@gmail.com\n",
    "# \n",
    "# Pyton verson: 3.7.4 amd64 (64-bit)    TensorFlow: 2.0.0\n",
    "\n",
    "import tensorflow as tf\n",
    "\n",
    "tf2x = tf.compat.v1\n",
    "tf2x.InteractiveSession()"
   ]
  },
  {
   "cell_type": "code",
   "execution_count": 9,
   "metadata": {},
   "outputs": [
    {
     "name": "stdout",
     "output_type": "stream",
     "text": [
      "6\n"
     ]
    }
   ],
   "source": [
    "# Before proceeding, please note that a session can be created independently\n",
    "# The 'tf.Session()' attribute is used in 1x so we will be using 'tf2x' - as defined as 'tf.compat.v1'\n",
    "# By calling 'sess.run()', the operation within the condition is executed and the result is a 'numpy.ndarray' type\n",
    "\n",
    "\n",
    "#      TensorFlow 1x \n",
    " \n",
    "'''    \n",
    "    sess = tf.Session()\n",
    "    print(sess.run(tf.constant(2) + tf.constant(4)))\n",
    "    \n",
    "'''\n",
    "\n",
    "#    WHICH WILL NOT WORK IN 2x\n",
    "\n",
    "#     TensorFlow 2x\n",
    "\n",
    "with tf2x.Session() as sess:\n",
    "    print(sess.run(tf.constant(2) + tf.constant(4)))\n",
    "    \n",
    "# You cannot use the 'sess.run()' function and eval attribute together since they are of the same type\n",
    "# Recall that we made mention of 'tf.eval()' function being equal to 'np.ndarray()'"
   ]
  },
  {
   "cell_type": "code",
   "execution_count": 26,
   "metadata": {
    "scrolled": true
   },
   "outputs": [
    {
     "name": "stdout",
     "output_type": "stream",
     "text": [
      "[[-8.90762150e-01  3.29983711e-01  3.25368494e-01  2.73488224e-01\n",
      "  -5.71029127e-01  1.81621563e+00 -2.36567989e-01 -7.39876151e-01\n",
      "  -9.71542478e-01 -4.26373243e-01  4.93569285e-01 -3.96100521e-01\n",
      "   6.37717605e-01 -9.03377771e-01 -1.85613241e-02  8.76151800e-01\n",
      "  -3.71321410e-01 -1.96425140e-01  9.25302565e-01  4.74230200e-01]\n",
      " [-9.03354406e-01  2.37332404e-01 -1.38816512e+00  4.71695244e-01\n",
      "  -1.13803923e+00 -1.05546594e+00 -5.60876250e-01 -1.81776285e+00\n",
      "  -1.23929024e-01 -4.55926090e-01  9.91463542e-01 -1.01959908e+00\n",
      "  -1.21000671e+00 -1.22327521e-01  1.89139441e-01  3.49673957e-01\n",
      "  -1.57446742e-01 -2.89898843e-01  5.98858178e-01 -1.14794743e+00]\n",
      " [-2.14003369e-01 -1.24912250e+00 -4.47420210e-01  3.07746500e-01\n",
      "  -1.13260281e+00  1.39579609e-01  1.36609096e-02 -9.58687603e-01\n",
      "  -1.19392157e+00 -1.09862113e+00 -8.75403509e-02  1.16828370e+00\n",
      "  -7.65174389e-01 -1.29143322e+00 -1.55045187e+00 -6.65908903e-02\n",
      "  -2.27781177e-01  1.26897800e+00  2.19528228e-01  1.72502649e+00]\n",
      " [-7.44297743e-01  2.50979394e-01 -2.57580698e-01  1.16088308e-01\n",
      "   3.13068748e-01  1.19451284e+00 -1.24833989e+00  1.71738291e+00\n",
      "   3.90880078e-01  7.10017860e-01 -4.44582760e-01 -6.02297246e-01\n",
      "  -2.81916350e-01  7.20335782e-01 -8.03218722e-01 -1.11929893e+00\n",
      "  -1.38195813e+00  7.49666512e-01  7.68026352e-01 -5.09642363e-01]\n",
      " [ 1.05473781e+00 -1.53013909e+00 -2.67676085e-01  9.06095505e-01\n",
      "  -7.93762207e-01  9.23946500e-01 -1.42520875e-01 -6.69833243e-01\n",
      "  -1.49475634e+00  1.89444378e-01 -1.41321158e+00 -5.07873654e-01\n",
      "  -1.20524192e+00 -1.06535387e+00 -3.09737306e-02  4.72587287e-01\n",
      "  -3.67389232e-01  6.57277882e-01  1.82958353e+00  5.56842208e-01]\n",
      " [ 1.67054248e+00 -1.05416834e-01 -4.37518984e-01  6.20017312e-02\n",
      "   6.87270224e-01 -1.47119713e+00  7.36061692e-01 -8.49891245e-01\n",
      "   3.43224145e-02  1.18012264e-01 -9.00938213e-01 -3.96780809e-03\n",
      "   1.48359644e+00 -6.36756659e-01 -2.19709128e-01 -2.01230779e-01\n",
      "  -1.98622847e+00  1.19497433e-01  1.71370246e-02  2.35726044e-01]\n",
      " [ 1.67070413e+00  1.14807856e+00  8.41308773e-01 -6.96201622e-01\n",
      "   9.25677717e-01  1.08579791e-03 -4.77550067e-02  1.96648419e-01\n",
      "   6.27830207e-01 -5.05651951e-01  1.40233606e-01  3.14854346e-02\n",
      "   2.08866168e-02  1.83280361e+00 -1.49521720e+00  2.79664844e-01\n",
      "   1.01014853e+00 -1.22176015e+00  8.30925882e-01  4.72824633e-01]\n",
      " [ 5.68510354e-01  8.46822336e-02 -5.36442101e-01  2.84954518e-01\n",
      "  -1.73713550e-01  3.12743753e-01  1.50018811e+00 -4.05520201e-01\n",
      "  -8.39878201e-01 -1.97969973e-01  1.27785480e+00  9.09660935e-01\n",
      "  -1.50165454e-01  5.01002431e-01  1.07433486e+00 -3.76853257e-01\n",
      "   3.59107852e-02  4.10191268e-01 -1.40151119e+00 -6.38190567e-01]\n",
      " [ 7.86608636e-01 -2.78091371e-01 -1.87668693e+00  1.61132288e+00\n",
      "  -1.51304042e+00 -8.09061587e-01 -1.18600416e+00  1.66228175e+00\n",
      "  -2.84989834e-01  2.81548053e-01 -2.35670537e-01  1.47681817e-01\n",
      "  -3.51508200e-01 -9.93889570e-01 -8.20296466e-01  4.68925051e-02\n",
      "   5.09873688e-01 -2.93851644e-01  1.77736437e+00 -7.52901137e-01]\n",
      " [-5.43430567e-01 -2.27291137e-01  2.27680281e-01 -4.47760612e-01\n",
      "   5.47049820e-01 -4.32096958e-01 -4.28477079e-01  8.75306308e-01\n",
      "  -8.46855566e-02 -3.58509421e-01  2.66430881e-02  9.75720525e-01\n",
      "  -1.03348739e-01 -9.84944522e-01 -2.46876985e-01 -6.68098211e-01\n",
      "   1.02595782e+00  7.81178296e-01  9.88673627e-01  8.26621175e-01]\n",
      " [-1.10565066e+00  4.49962139e-01 -1.72030950e+00  4.51957107e-01\n",
      "   2.66277671e-01 -4.64210957e-01 -4.48094517e-01 -2.22257569e-01\n",
      "  -6.19125187e-01 -9.96931717e-02 -8.53502750e-01  8.55608344e-01\n",
      "   4.51012105e-01  6.57363355e-01 -6.19463563e-01  3.88872087e-01\n",
      "  -1.05668819e+00  1.20853148e-02 -7.73753524e-01  1.20011234e+00]\n",
      " [ 1.02225673e+00  2.85209298e-01 -6.66843116e-01  1.99461257e+00\n",
      "   1.21739435e+00 -1.21113718e+00  1.74605295e-01 -8.05365622e-01\n",
      "  -5.79043925e-02  1.29087043e+00 -1.27636790e+00  8.78496934e-03\n",
      "  -7.98444271e-01 -6.87541246e-01 -4.89372998e-01  5.78194380e-01\n",
      "  -9.82654572e-01  4.41986144e-01  4.19601321e-01  1.52235079e+00]\n",
      " [-2.05268309e-01  1.07421792e+00  3.47024173e-01 -4.64913547e-01\n",
      "   1.17337024e+00  3.58577073e-02 -4.99428203e-03 -5.03872275e-01\n",
      "   1.14203417e+00 -9.79816198e-01  1.66523218e+00  1.01732671e+00\n",
      "   1.40908465e-01  9.54577446e-01 -1.06032336e+00 -7.93075621e-01\n",
      "  -7.96451807e-01  1.31476617e+00  7.88219154e-01 -6.48134589e-01]\n",
      " [-6.54362738e-01 -1.64445400e+00  2.99364209e-01 -4.61395383e-01\n",
      "   1.17948997e+00  5.47987401e-01 -1.10885417e-02  8.36871207e-01\n",
      "  -6.59088075e-01  1.14046800e+00 -4.21430618e-01  9.32874739e-01\n",
      "   1.71833277e-01  1.48096740e-01 -8.48037064e-01 -1.03620386e+00\n",
      "  -5.67872524e-01  9.53083396e-01  6.76308632e-01  1.28525007e+00]\n",
      " [-2.64696002e-01 -1.07764161e+00  1.05457306e+00 -1.41496360e+00\n",
      "  -1.16101551e+00  1.59901965e+00  2.14009687e-01 -4.03709173e-01\n",
      "   5.96581221e-01  4.94046271e-01 -1.17609370e+00  5.29252350e-01\n",
      "  -4.71842319e-01  1.07758187e-01  1.57156587e+00  1.01253450e+00\n",
      "  -1.09151113e+00  3.44484270e-01  1.59540844e+00  5.77276170e-01]\n",
      " [-1.83856559e+00 -5.61784267e-01  3.54353517e-01 -9.70760360e-02\n",
      "  -2.38511294e-01 -3.47232401e-01 -1.25961745e+00 -3.54950756e-01\n",
      "   6.60943449e-01 -1.47273064e+00  3.88077080e-01  2.95469254e-01\n",
      "  -1.81394815e-01 -5.90334654e-01 -4.72876281e-01 -1.29725325e+00\n",
      "   1.69235170e+00  7.63584375e-01 -9.17585135e-01  3.30720901e-01]\n",
      " [-4.47707862e-01 -7.24458218e-01 -1.07328701e+00  7.27833152e-01\n",
      "   1.32033420e+00 -1.20628476e+00 -5.03688037e-01 -1.16672778e+00\n",
      "   5.45384288e-01 -1.46147817e-01  2.31071532e-01  7.31404722e-01\n",
      "   2.04501361e-01 -1.13063216e-01  8.47026765e-01 -1.28373075e+00\n",
      "   1.90591127e-01 -1.49201006e-01  2.46820644e-01  1.17774355e+00]\n",
      " [ 9.55392778e-01  5.74265897e-01  7.81043470e-01  2.73988098e-01\n",
      "  -8.31957102e-01 -1.04181848e-01 -1.05562544e+00  8.71431649e-01\n",
      "  -7.63292849e-01 -1.21747613e+00  2.84184307e-01  6.97388798e-02\n",
      "   2.55201128e-03 -1.78201389e+00  1.08007953e-01 -1.18525255e+00\n",
      "  -4.81346935e-01 -2.97173679e-01 -9.65318084e-01 -1.06376851e+00]\n",
      " [-1.09211421e+00 -8.34034443e-01  1.45694828e+00 -1.56075537e-01\n",
      "   8.64055574e-01  1.03973114e+00  2.70054694e-02  3.08510158e-02\n",
      "  -9.29858685e-01  4.87067908e-01 -3.60333532e-01 -4.75656278e-02\n",
      "   5.98251879e-01  6.58467710e-01 -8.92366648e-01 -1.59251034e+00\n",
      "  -3.67506623e-01  1.20288646e+00  1.15165079e+00  1.33270597e+00]\n",
      " [ 7.04251468e-01 -5.31430125e-01  8.21482599e-01  3.57351989e-01\n",
      "   4.73234624e-01 -8.87078762e-01 -1.01519585e+00 -2.81022042e-01\n",
      "  -1.09806940e-01 -8.89342010e-01 -9.69761908e-01  1.23218274e+00\n",
      "   6.24110699e-01 -8.59626174e-01  1.96461165e+00  5.86799502e-01\n",
      "  -3.44715357e-01  1.39693725e+00  9.92645025e-01  8.73345494e-01]]\n"
     ]
    }
   ],
   "source": [
    "# Here is an example of the eval function used outside the IntereactiveSession\n",
    "\n",
    "with tf2x.Session() as sess:\n",
    "    print(tf2x.truncated_normal((20,20), mean=0, stddev=1).eval())"
   ]
  },
  {
   "cell_type": "code",
   "execution_count": 14,
   "metadata": {},
   "outputs": [
    {
     "data": {
      "text/plain": [
       "6"
      ]
     },
     "execution_count": 14,
     "metadata": {},
     "output_type": "execute_result"
    }
   ],
   "source": [
    "# It can be done as easily as shown below in the interactive session\n",
    "\n",
    "(tf.constant(2) + tf.constant(4)).numpy()"
   ]
  },
  {
   "cell_type": "code",
   "execution_count": 27,
   "metadata": {},
   "outputs": [
    {
     "data": {
      "text/plain": [
       "array([[1., 1., 1.],\n",
       "       [1., 1., 1.],\n",
       "       [1., 1., 1.]], dtype=float32)"
      ]
     },
     "execution_count": 27,
     "metadata": {},
     "output_type": "execute_result"
    }
   ],
   "source": [
    "# Tensors can also be Subtracted\n",
    "\n",
    "a = tf.ones((3,3)) - tf.zeros((3,3))\n",
    "a.numpy()"
   ]
  },
  {
   "cell_type": "code",
   "execution_count": 62,
   "metadata": {},
   "outputs": [
    {
     "name": "stdout",
     "output_type": "stream",
     "text": [
      "[[1. 1. 1.]\n",
      " [1. 1. 1.]\n",
      " [1. 1. 1.]]\n"
     ]
    },
    {
     "data": {
      "text/plain": [
       "array([[1., 1., 1.],\n",
       "       [1., 1., 1.],\n",
       "       [1., 1., 1.]], dtype=float32)"
      ]
     },
     "execution_count": 62,
     "metadata": {},
     "output_type": "execute_result"
    }
   ],
   "source": [
    "# Alternatively...\n",
    "\n",
    "with tf2x.Session() as sess:\n",
    "    \n",
    "    \n",
    "    a = tf.ones((3,3)) - tf.zeros((3,3))\n",
    "    print(sess.run(a))\n",
    "    \n",
    "a.eval()"
   ]
  },
  {
   "cell_type": "code",
   "execution_count": 8,
   "metadata": {},
   "outputs": [
    {
     "data": {
      "text/plain": [
       "array([[1., 1., 1.],\n",
       "       [1., 1., 1.],\n",
       "       [1., 1., 1.]], dtype=float32)"
      ]
     },
     "execution_count": 8,
     "metadata": {},
     "output_type": "execute_result"
    }
   ],
   "source": [
    "# Using the eval function...\n",
    "\n",
    "with tf2x.Session() as sess:\n",
    "    a = tf.ones((3,3)) - tf.zeros((3,3)) \n",
    "    a = sess.run(a)\n",
    "    a\n",
    "    \n",
    "# The eval function can be called outside the condition statement as shown below to get the 'numpy.ndarray' type,\n",
    "# likewise the sess.run() function \n",
    "\n",
    "a.eval()"
   ]
  },
  {
   "cell_type": "code",
   "execution_count": 64,
   "metadata": {},
   "outputs": [
    {
     "ename": "AttributeError",
     "evalue": "'numpy.ndarray' object has no attribute 'eval'",
     "output_type": "error",
     "traceback": [
      "\u001b[1;31m---------------------------------------------------------------------------\u001b[0m",
      "\u001b[1;31mAttributeError\u001b[0m                            Traceback (most recent call last)",
      "\u001b[1;32m<ipython-input-64-98810c4e5dea>\u001b[0m in \u001b[0;36m<module>\u001b[1;34m\u001b[0m\n\u001b[0;32m      3\u001b[0m \u001b[1;32mwith\u001b[0m \u001b[0mtf2x\u001b[0m\u001b[1;33m.\u001b[0m\u001b[0mSession\u001b[0m\u001b[1;33m(\u001b[0m\u001b[1;33m)\u001b[0m \u001b[1;32mas\u001b[0m \u001b[0msess\u001b[0m\u001b[1;33m:\u001b[0m\u001b[1;33m\u001b[0m\u001b[1;33m\u001b[0m\u001b[0m\n\u001b[0;32m      4\u001b[0m     \u001b[0ma\u001b[0m \u001b[1;33m=\u001b[0m \u001b[0mtf\u001b[0m\u001b[1;33m.\u001b[0m\u001b[0mones\u001b[0m\u001b[1;33m(\u001b[0m\u001b[1;33m[\u001b[0m\u001b[1;36m3\u001b[0m\u001b[1;33m,\u001b[0m\u001b[1;36m3\u001b[0m\u001b[1;33m]\u001b[0m\u001b[1;33m)\u001b[0m \u001b[1;33m-\u001b[0m \u001b[0mtf\u001b[0m\u001b[1;33m.\u001b[0m\u001b[0mzeros\u001b[0m\u001b[1;33m(\u001b[0m\u001b[1;33m[\u001b[0m\u001b[1;36m3\u001b[0m\u001b[1;33m,\u001b[0m\u001b[1;36m3\u001b[0m\u001b[1;33m]\u001b[0m\u001b[1;33m)\u001b[0m\u001b[1;33m\u001b[0m\u001b[1;33m\u001b[0m\u001b[0m\n\u001b[1;32m----> 5\u001b[1;33m     \u001b[0mprint\u001b[0m\u001b[1;33m(\u001b[0m\u001b[0msess\u001b[0m\u001b[1;33m.\u001b[0m\u001b[0mrun\u001b[0m\u001b[1;33m(\u001b[0m\u001b[0ma\u001b[0m\u001b[1;33m)\u001b[0m\u001b[1;33m.\u001b[0m\u001b[0meval\u001b[0m\u001b[1;33m(\u001b[0m\u001b[1;33m)\u001b[0m\u001b[1;33m)\u001b[0m\u001b[1;33m\u001b[0m\u001b[1;33m\u001b[0m\u001b[0m\n\u001b[0m\u001b[0;32m      6\u001b[0m     \u001b[0msess\u001b[0m\u001b[1;33m.\u001b[0m\u001b[0mclose\u001b[0m\u001b[1;33m(\u001b[0m\u001b[1;33m)\u001b[0m\u001b[1;33m\u001b[0m\u001b[1;33m\u001b[0m\u001b[0m\n\u001b[0;32m      7\u001b[0m \u001b[1;33m\u001b[0m\u001b[0m\n",
      "\u001b[1;31mAttributeError\u001b[0m: 'numpy.ndarray' object has no attribute 'eval'"
     ]
    }
   ],
   "source": [
    "# A session can be closed by calling the 'sess.close()' function \n",
    "\n",
    "with tf2x.Session() as sess:\n",
    "    a = tf.ones([3,3]) - tf.zeros([3,3])  \n",
    "    print(sess.run(a).eval())\n",
    "    sess.close()\n",
    "    "
   ]
  },
  {
   "cell_type": "code",
   "execution_count": 63,
   "metadata": {},
   "outputs": [
    {
     "name": "stdout",
     "output_type": "stream",
     "text": [
      "-1\n"
     ]
    }
   ],
   "source": [
    "with tf2x.Session() as sess:\n",
    "    a = tf.constant(3) - tf.constant(4)\n",
    "    print(a.eval())"
   ]
  },
  {
   "cell_type": "code",
   "execution_count": null,
   "metadata": {},
   "outputs": [],
   "source": []
  }
 ],
 "metadata": {
  "kernelspec": {
   "display_name": "Python 3",
   "language": "python",
   "name": "python3"
  },
  "language_info": {
   "codemirror_mode": {
    "name": "ipython",
    "version": 3
   },
   "file_extension": ".py",
   "mimetype": "text/x-python",
   "name": "python",
   "nbconvert_exporter": "python",
   "pygments_lexer": "ipython3",
   "version": "3.7.4"
  }
 },
 "nbformat": 4,
 "nbformat_minor": 2
}
