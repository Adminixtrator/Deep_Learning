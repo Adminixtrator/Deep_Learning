{
 "cells": [
  {
   "cell_type": "code",
   "execution_count": 1,
   "metadata": {},
   "outputs": [],
   "source": [
    "# Created by: ADMINIXTRATOR             Date: 9th January, 2020\n",
    "# Twitter: Adminixtrator                Email: minixtrator@gmail.com\n",
    "# \n",
    "# Pyton verson: 3.7.4 amd64 (64-bit)    TensorFlow: 2.0.0\n",
    "\n",
    "import tensorflow as tf\n",
    "\n",
    "# Tesnsorflow can now be used as'tf.<Operation>'\n",
    "# For Verson 1x.. all attributes remain the same"
   ]
  },
  {
   "cell_type": "code",
   "execution_count": 2,
   "metadata": {},
   "outputs": [
    {
     "data": {
      "text/plain": [
       "<tensorflow.python.client.session.InteractiveSession at 0x606f7f61c8>"
      ]
     },
     "execution_count": 2,
     "metadata": {},
     "output_type": "execute_result"
    }
   ],
   "source": [
    "# To use TensorFlow 2x, you need to add '.compat.v1' before the attribute\n",
    "# Although you can define your TF 2x to behave like 1x\n",
    "\n",
    "tf.compat.v1.InteractiveSession()\n",
    "\n",
    "# Experimenting with tensorflow interactively"
   ]
  },
  {
   "cell_type": "code",
   "execution_count": 3,
   "metadata": {},
   "outputs": [],
   "source": [
    "# Another way to make our lives easier is to declare another variable to hold the module 'tf.compat.v1'\n",
    "\n",
    "tf2x = tf.compat.v1"
   ]
  },
  {
   "cell_type": "code",
   "execution_count": 5,
   "metadata": {},
   "outputs": [
    {
     "data": {
      "text/plain": [
       "<tensorflow.python.client.session.InteractiveSession at 0x606fa15ec8>"
      ]
     },
     "execution_count": 5,
     "metadata": {},
     "output_type": "execute_result"
    }
   ],
   "source": [
    "tf2x.InteractiveSession()\n",
    "\n",
    "# Voila.. \n",
    "# Now all other attributes will be addressed with 'tf2x.<Session>'"
   ]
  },
  {
   "cell_type": "code",
   "execution_count": 6,
   "metadata": {},
   "outputs": [
    {
     "data": {
      "text/plain": [
       "<tf.Tensor: id=3, shape=(2,), dtype=float32, numpy=array([0., 0.], dtype=float32)>"
      ]
     },
     "execution_count": 6,
     "metadata": {},
     "output_type": "execute_result"
    }
   ],
   "source": [
    "# The easiest conventions in creating a Tensor are 'tf.zeros' and 'tf.ones'\n",
    "# To show the created Tensor you call 'tf.Tensor.eval()' - in this case, it will be 'tf.Tensor.numpy()' since we are in an \n",
    "# interactive session\n",
    "# The 'tf.eval' is the same as your 'np.ndarray' - Numpy\n",
    "# TensorFlow was built to be compatible with Numpy conventions\n",
    "\n",
    "tf.zeros(2)"
   ]
  },
  {
   "cell_type": "code",
   "execution_count": 7,
   "metadata": {
    "scrolled": true
   },
   "outputs": [
    {
     "data": {
      "text/plain": [
       "array([[0., 0., 0.],\n",
       "       [0., 0., 0.],\n",
       "       [0., 0., 0.]], dtype=float32)"
      ]
     },
     "execution_count": 7,
     "metadata": {},
     "output_type": "execute_result"
    }
   ],
   "source": [
    "#   tf.zeros((3,3)).eval()    Used in 1x, doesn't work in 2x\n",
    "\n",
    "tf.zeros((3,3)).numpy()"
   ]
  },
  {
   "cell_type": "code",
   "execution_count": 8,
   "metadata": {},
   "outputs": [
    {
     "data": {
      "text/plain": [
       "array([[[1., 1.],\n",
       "        [1., 1.]],\n",
       "\n",
       "       [[1., 1.],\n",
       "        [1., 1.]]], dtype=float32)"
      ]
     },
     "execution_count": 8,
     "metadata": {},
     "output_type": "execute_result"
    }
   ],
   "source": [
    "tf.ones((2,2,2)).numpy()"
   ]
  },
  {
   "cell_type": "code",
   "execution_count": 9,
   "metadata": {},
   "outputs": [
    {
     "data": {
      "text/plain": [
       "array([[3, 3, 3],\n",
       "       [3, 3, 3],\n",
       "       [3, 3, 3]])"
      ]
     },
     "execution_count": 9,
     "metadata": {},
     "output_type": "execute_result"
    }
   ],
   "source": [
    "# Another method is the 'tf.fill()' - create tensors of quantities beside 1/0\n",
    "# The 'tf.constant()' is used to create Tensors that will not change throughout the program execution\n",
    "\n",
    "tf.fill((3,3), value=3).numpy()"
   ]
  },
  {
   "cell_type": "code",
   "execution_count": 10,
   "metadata": {},
   "outputs": [
    {
     "data": {
      "text/plain": [
       "12"
      ]
     },
     "execution_count": 10,
     "metadata": {},
     "output_type": "execute_result"
    }
   ],
   "source": [
    "tf.constant(12).numpy()"
   ]
  },
  {
   "cell_type": "code",
   "execution_count": 11,
   "metadata": {},
   "outputs": [
    {
     "data": {
      "text/plain": [
       "array([[ 3.0637124 ,  3.1123064 ,  6.071253  ],\n",
       "       [ 1.986774  , -2.1183703 , -0.96934974],\n",
       "       [-1.0016227 ,  1.6871884 ,  1.1689787 ]], dtype=float32)"
      ]
     },
     "execution_count": 11,
     "metadata": {},
     "output_type": "execute_result"
    }
   ],
   "source": [
    "# Tensors can also be created using the 'tf.random_normal' - this is an attribute\n",
    "# Here you can specify the mean and standard deviation of then random values\n",
    "\n",
    "tf2x.random_normal((3,3), mean=1, stddev=2).numpy()"
   ]
  },
  {
   "cell_type": "code",
   "execution_count": 12,
   "metadata": {},
   "outputs": [
    {
     "data": {
      "text/plain": [
       "array([[ 2.4664335 ,  0.290219  ,  1.8901488 , ..., -2.536847  ,\n",
       "        -0.850695  , -4.378546  ],\n",
       "       [ 0.4260654 ,  1.2101666 , -3.9902601 , ..., -0.30073103,\n",
       "        -2.1110048 ,  4.7401285 ],\n",
       "       [ 1.5350013 , -5.265534  , -0.2630674 , ..., -1.1164607 ,\n",
       "        -0.3360285 , -1.3886522 ],\n",
       "       ...,\n",
       "       [ 4.5753374 , -3.7473583 , -5.0688014 , ..., -0.49745372,\n",
       "         1.4778258 ,  1.8254855 ],\n",
       "       [ 2.4004138 ,  1.2835901 ,  3.060084  , ...,  1.6021315 ,\n",
       "        -2.5343332 ,  4.3240113 ],\n",
       "       [ 2.097033  , -2.5208745 ,  1.7857302 , ..., -1.476527  ,\n",
       "         1.3403462 ,  2.9828706 ]], dtype=float32)"
      ]
     },
     "execution_count": 12,
     "metadata": {},
     "output_type": "execute_result"
    }
   ],
   "source": [
    "# Another attribute is the 'tf.truncated_normal()' - this is used when working with large samples\n",
    "# Due to Numerical Stability, it is advisable to use this attribute\n",
    "\n",
    "tf2x.truncated_normal((50,50), mean=0.1, stddev=3).numpy()"
   ]
  },
  {
   "cell_type": "code",
   "execution_count": 13,
   "metadata": {},
   "outputs": [
    {
     "data": {
      "text/plain": [
       "array([[0.6906148 , 0.13998473, 0.7907686 ],\n",
       "       [0.50875056, 0.4754063 , 0.30271518],\n",
       "       [0.4017985 , 0.30022037, 0.07988465]], dtype=float32)"
      ]
     },
     "execution_count": 13,
     "metadata": {},
     "output_type": "execute_result"
    }
   ],
   "source": [
    "# The 'tf.random_uniform' also behaves like the random_normal, except that it is specified a range\n",
    "# It's values are sampled from a Uniform Distribution - hence the name\n",
    "\n",
    "tf2x.random_uniform((3,3), minval=0, maxval=1).numpy()"
   ]
  },
  {
   "cell_type": "code",
   "execution_count": null,
   "metadata": {},
   "outputs": [],
   "source": []
  },
  {
   "cell_type": "code",
   "execution_count": null,
   "metadata": {},
   "outputs": [],
   "source": [
    "#                        NEXT == Tensor Addition and Scaling"
   ]
  }
 ],
 "metadata": {
  "kernelspec": {
   "display_name": "Python 3",
   "language": "python",
   "name": "python3"
  },
  "language_info": {
   "codemirror_mode": {
    "name": "ipython",
    "version": 3
   },
   "file_extension": ".py",
   "mimetype": "text/x-python",
   "name": "python",
   "nbconvert_exporter": "python",
   "pygments_lexer": "ipython3",
   "version": "3.7.4"
  }
 },
 "nbformat": 4,
 "nbformat_minor": 2
}
