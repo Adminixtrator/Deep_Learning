{
 "cells": [
  {
   "cell_type": "code",
   "execution_count": 1,
   "metadata": {},
   "outputs": [
    {
     "data": {
      "text/plain": [
       "<tensorflow.python.client.session.InteractiveSession at 0x3aaeeedd48>"
      ]
     },
     "execution_count": 1,
     "metadata": {},
     "output_type": "execute_result"
    }
   ],
   "source": [
    "# Created by: ADMINIXTRATOR             Date: 9th January, 2020\n",
    "# Twitter: Adminixtrator                Email: minixtrator@gmail.com\n",
    "# \n",
    "# Pyton verson: 3.7.4 amd64 (64-bit)    TensorFlow: 2.0.0\n",
    "\n",
    "import tensorflow as tf\n",
    "\n",
    "tf2x = tf.compat.v1\n",
    "tf2x.InteractiveSession()"
   ]
  },
  {
   "cell_type": "code",
   "execution_count": 9,
   "metadata": {},
   "outputs": [
    {
     "name": "stdout",
     "output_type": "stream",
     "text": [
      "6\n"
     ]
    }
   ],
   "source": [
    "# Before proceeding, please note that a session can be created independently\n",
    "# The 'tf.Session()' funtion is used in 1x so we will be using 'tf2x' - as defined as 'tf.compat.v1'\n",
    "# By calling 'sess.run()', the operation within the condition is executed and the result is converted to a 'numpy.ndarray' type\n",
    "\n",
    "\n",
    "#      TensorFlow 1x \n",
    " \n",
    "'''    \n",
    "    sess = tf.Session()\n",
    "    print(sess.run(tf.constant(2) + tf.constant(4)))\n",
    "    \n",
    "'''\n",
    "\n",
    "#    WHICH WILL NOT WORK IN 2x\n",
    "\n",
    "#     TensorFlow 2x\n",
    "\n",
    "with tf2x.Session() as sess:\n",
    "    print(sess.run(tf.constant(2) + tf.constant(4)))\n",
    "    \n",
    "# Note that the 'tf.Tensor.numpy()' function does not work within the session"
   ]
  },
  {
   "cell_type": "code",
   "execution_count": 12,
   "metadata": {
    "scrolled": true
   },
   "outputs": [
    {
     "name": "stdout",
     "output_type": "stream",
     "text": [
      "[[-1.07916057e+00  1.13833487e+00  5.21182477e-01 -8.42126608e-01\n",
      "   3.33934389e-02 -6.92815006e-01  1.17711365e+00 -1.37955403e+00\n",
      "   4.55634087e-01 -8.55275467e-02  1.21235192e+00  5.83144069e-01\n",
      "  -3.03757966e-01 -7.68662095e-01  2.02909485e-01  9.74009335e-01\n",
      "  -7.39090890e-02 -4.70183104e-01  8.50218415e-01 -7.70441741e-02]\n",
      " [-3.38658512e-01  6.41074479e-01 -3.52294803e-01 -1.97616965e-01\n",
      "  -5.41934907e-01  7.21578002e-01 -5.50597906e-01  1.83786228e-01\n",
      "   2.61837900e-01  2.06805035e-01  4.58321393e-01  1.10566115e+00\n",
      "  -1.04552138e+00 -1.50473082e+00 -1.83004236e+00  3.10705215e-01\n",
      "  -9.95939791e-01 -1.02940030e-01 -1.66205332e-01 -6.03855371e-01]\n",
      " [-1.77280486e+00 -2.46133596e-01 -1.57506478e+00  4.03614044e-01\n",
      "   5.09691477e-01 -7.04233050e-01 -7.41059035e-02 -1.23309469e+00\n",
      "  -5.35695195e-01  4.79343265e-01 -8.97432193e-02  8.55603576e-01\n",
      "  -4.94566699e-03 -1.35859585e+00 -1.46110013e-01  7.56588340e-01\n",
      "  -1.54479992e+00 -1.04480064e+00  1.28965318e+00 -9.24022794e-01]\n",
      " [ 1.11923683e+00  1.33845448e+00 -5.15399337e-01  1.01998913e+00\n",
      "  -7.23724663e-01  1.46301651e+00 -4.77991819e-01  4.70289588e-01\n",
      "  -3.85994524e-01  5.80461800e-01  1.00813544e+00  8.40861559e-01\n",
      "   3.17436785e-01  7.74929225e-01  2.75547534e-01 -7.32101381e-01\n",
      "  -1.16643143e+00  9.92491186e-01  3.35501015e-01  1.35546342e-01]\n",
      " [-1.08748579e+00  3.00053507e-01  1.64924681e+00 -8.22965726e-02\n",
      "  -4.33425546e-01  6.67502642e-01 -1.34378445e+00  3.02179843e-01\n",
      "   7.47402489e-01  1.31391275e+00  3.81358802e-01 -5.47404066e-02\n",
      "   2.29254857e-01  1.68579996e+00  1.00259386e-01 -3.26717317e-01\n",
      "  -1.35074586e-01 -6.93474710e-01 -1.33625937e+00 -2.18293846e-01]\n",
      " [-4.05758679e-01 -3.23647141e-01 -5.91782689e-01 -9.68851089e-01\n",
      "   1.28190506e+00 -1.15777051e+00  2.18348816e-01  2.83480972e-01\n",
      "  -1.24302633e-01  1.20584548e+00  2.32153554e-02 -7.27445543e-01\n",
      "  -9.49350655e-01  9.06781554e-01 -1.15004385e+00 -6.51964903e-01\n",
      "   3.08811575e-01  1.32205462e+00 -3.31579447e-01  1.54058039e-01]\n",
      " [ 2.88773060e-01 -6.70806170e-01 -6.05423868e-01 -2.06977934e-01\n",
      "  -1.73058295e+00  3.88755232e-01 -4.85490590e-01 -1.00887227e+00\n",
      "  -7.11613715e-01 -1.04119551e+00  3.88735384e-01 -2.10071474e-01\n",
      "   1.98268116e+00 -1.50098550e+00 -5.40776193e-01 -9.60147858e-01\n",
      "   6.52784288e-01  4.26697321e-02 -1.26808095e+00 -1.16048098e+00]\n",
      " [-7.62733996e-01 -9.46920872e-01  6.62410200e-01  5.57872653e-01\n",
      "  -1.44608617e+00  2.33451888e-01 -5.17658591e-02  5.93251958e-02\n",
      "   9.00691330e-01  1.90727723e+00 -6.17074728e-01 -1.45357108e+00\n",
      "  -7.79956877e-01 -2.67874479e-01 -6.94229245e-01 -5.40872574e-01\n",
      "   1.75141376e-02  1.35459244e+00 -3.52868527e-01  5.26673436e-01]\n",
      " [-9.82460618e-01 -2.59260237e-01  1.27990806e+00  8.92900467e-01\n",
      "   1.08935773e+00 -3.94209474e-01  1.76257193e-01  2.35779807e-01\n",
      "  -1.01937401e+00  7.91460395e-01 -1.69072092e+00  4.79700953e-01\n",
      "  -1.54890567e-01 -9.97565806e-01 -7.94078708e-01  1.49218845e+00\n",
      "   6.48311824e-02  9.99703109e-01  7.96494707e-02 -1.12279379e+00]\n",
      " [ 8.88765752e-01  6.03940725e-01 -9.30154741e-01  1.23187315e+00\n",
      "  -2.23356068e-01 -4.34639007e-01  5.59641700e-03 -4.54361439e-01\n",
      "   7.14298725e-01  1.39458314e-01  1.57596993e+00  6.04575157e-01\n",
      "  -4.36543435e-01  8.09017181e-01  1.42557669e+00  1.89532983e+00\n",
      "   7.91296363e-01  5.11501849e-01 -3.92275788e-02 -6.97553754e-01]\n",
      " [ 1.68407726e+00 -1.27656192e-01  1.61166608e+00 -9.41288993e-02\n",
      "  -1.51146901e+00  1.45227206e+00 -6.37634873e-01  2.92516083e-01\n",
      "   1.51804522e-01  8.84263217e-01 -1.97335541e-01 -3.34834568e-02\n",
      "  -3.57132941e-01  9.50144455e-02  2.02061385e-01 -8.97992015e-01\n",
      "  -1.22306097e+00  4.74535793e-01 -3.18761051e-01 -3.53325337e-01]\n",
      " [-3.44862908e-01  7.87459075e-01 -5.17786965e-02 -1.04426122e+00\n",
      "   8.26286912e-01 -1.19315290e+00 -1.39254975e+00 -7.90059507e-01\n",
      "  -1.61768520e+00  3.81351322e-01  5.44033587e-01  9.08745289e-01\n",
      "  -6.00824416e-01 -4.33860928e-01  1.28489125e+00  1.52972370e-01\n",
      "  -3.48506033e-01 -1.01399791e+00  1.59007013e+00 -2.79286891e-01]\n",
      " [ 1.41764235e+00  9.76939082e-01 -1.50220025e+00  1.55758595e+00\n",
      "  -1.20824325e+00 -2.91150570e-01 -8.20592344e-01 -2.42911908e-03\n",
      "   1.72417553e-03 -8.73960972e-01 -1.33467948e+00 -3.40751469e-01\n",
      "  -7.64555573e-01 -4.07448798e-01  5.71594536e-01 -1.27404702e+00\n",
      "   1.35394406e+00  2.11139888e-01 -5.41270256e-01  1.60069883e+00]\n",
      " [-7.07359791e-01  2.56581187e-01 -4.50901061e-01  7.90243924e-01\n",
      "   1.44151819e+00  4.02335584e-01 -7.91646183e-01  5.58161214e-02\n",
      "  -1.10569501e+00 -9.72627848e-02  8.25306714e-01 -1.92729756e-02\n",
      "   1.25782228e+00 -8.70159686e-01  1.63980377e+00 -9.20091212e-01\n",
      "   1.02996182e+00  1.71655297e+00 -1.35222375e-01  1.32677901e+00]\n",
      " [-3.55003208e-01 -6.28641903e-01 -1.86089480e+00 -9.04234529e-01\n",
      "   2.59419918e-01 -5.32704651e-01  1.36957347e+00  5.71153998e-01\n",
      "   8.53528678e-01 -1.95575380e+00 -3.42397280e-02 -2.79508948e-01\n",
      "  -9.87280980e-02 -9.46502626e-01 -3.61424416e-01 -8.55515361e-01\n",
      "  -8.94514322e-01 -5.29101491e-01  8.03487077e-02  3.58141482e-01]\n",
      " [-4.24039394e-01 -3.00899178e-01 -1.64741206e+00  1.55482543e+00\n",
      "   1.51991820e+00 -2.54785836e-01 -1.33618307e+00 -5.96614540e-01\n",
      "   2.17072129e-01 -5.50158739e-01  1.21384382e+00 -1.01884186e+00\n",
      "   1.14836276e+00 -2.95185715e-01 -1.69104195e+00 -2.88086325e-01\n",
      "  -9.76729512e-01  2.55918413e-01 -8.09593558e-01  4.68393296e-01]\n",
      " [-9.81840074e-01  3.98895144e-01 -6.13553822e-01  8.86437237e-01\n",
      "  -1.44709992e+00 -1.45380929e-01 -1.49361241e+00 -7.16657460e-01\n",
      "   1.20850921e+00  6.39577031e-01  9.35956776e-01 -2.46249720e-01\n",
      "   8.03555071e-01 -5.01487017e-01 -4.41445112e-01 -3.69775742e-01\n",
      "   6.17384195e-01  9.39287603e-01  1.02357514e-01  1.71780336e+00]\n",
      " [ 9.54407826e-02  4.42880720e-01 -3.07675362e-01 -8.81563202e-02\n",
      "  -1.75357556e+00 -1.11125302e+00 -1.58559191e+00  1.76084495e+00\n",
      "   1.77034378e+00  3.23184431e-01  7.21984684e-01 -8.44231665e-01\n",
      "  -2.57596970e-01  1.35757506e-01 -1.13008797e+00 -8.44391286e-01\n",
      "  -3.16064328e-01  6.92037582e-01  1.67203689e+00  5.62823117e-01]\n",
      " [-1.34571373e-01  9.96998966e-01 -6.05970085e-01  1.97505713e+00\n",
      "   3.21182847e-01  4.06483673e-02 -6.47450089e-01  5.91074467e-01\n",
      "  -6.39279723e-01  2.47637779e-01  3.49750310e-01  1.98113084e-01\n",
      "   5.66654801e-01 -1.38114798e+00 -1.42778611e+00 -8.42482388e-01\n",
      "   1.06663056e-01 -1.11491680e+00 -1.76178741e+00  1.52695894e+00]\n",
      " [ 5.43455064e-01 -2.63275325e-01 -2.53124863e-01  7.95753121e-01\n",
      "   1.70246989e-01  5.24270423e-02  3.83695751e-01  3.38140041e-01\n",
      "  -1.64524472e+00 -4.47235167e-01 -6.00411236e-01  1.19310355e+00\n",
      "  -2.94500757e-02 -6.39195502e-01  4.73119795e-01 -1.45666003e+00\n",
      "   5.16528487e-01  1.88954389e+00 -1.49658889e-01  1.56103516e+00]]\n"
     ]
    }
   ],
   "source": [
    "# Recall that we made mention of 'tf.eval()' function being equal to 'np.ndarray()'\n",
    "# The 'tf.eval()' function is also the same with the 'tf.Tensor.numpy()' function of 2x\n",
    "# The 'tf.eval()' function likewise the 'tf.Tensor.numpy()' funtion will both work in this instance because we did not \n",
    "# call the 'sess.run()' function - which converts it to a 'np.ndarray()' type \n",
    "\n",
    "with tf2x.Session() as sess:\n",
    "    print(tf2x.truncated_normal((20,20), mean=0, stddev=1).eval())"
   ]
  },
  {
   "cell_type": "code",
   "execution_count": null,
   "metadata": {},
   "outputs": [],
   "source": []
  },
  {
   "cell_type": "code",
   "execution_count": 14,
   "metadata": {},
   "outputs": [
    {
     "data": {
      "text/plain": [
       "6"
      ]
     },
     "execution_count": 14,
     "metadata": {},
     "output_type": "execute_result"
    }
   ],
   "source": [
    "# It can be done as easily as shown below in the interactive session\n",
    "\n",
    "(tf.constant(2) + tf.constant(4)).numpy()"
   ]
  },
  {
   "cell_type": "code",
   "execution_count": 27,
   "metadata": {},
   "outputs": [
    {
     "data": {
      "text/plain": [
       "array([[1., 1., 1.],\n",
       "       [1., 1., 1.],\n",
       "       [1., 1., 1.]], dtype=float32)"
      ]
     },
     "execution_count": 27,
     "metadata": {},
     "output_type": "execute_result"
    }
   ],
   "source": [
    "# Tensors can also be Subtracted\n",
    "\n",
    "a = tf.ones((3,3)) - tf.zeros((3,3))\n",
    "a.numpy()"
   ]
  },
  {
   "cell_type": "code",
   "execution_count": 62,
   "metadata": {},
   "outputs": [
    {
     "name": "stdout",
     "output_type": "stream",
     "text": [
      "[[1. 1. 1.]\n",
      " [1. 1. 1.]\n",
      " [1. 1. 1.]]\n"
     ]
    },
    {
     "data": {
      "text/plain": [
       "array([[1., 1., 1.],\n",
       "       [1., 1., 1.],\n",
       "       [1., 1., 1.]], dtype=float32)"
      ]
     },
     "execution_count": 62,
     "metadata": {},
     "output_type": "execute_result"
    }
   ],
   "source": [
    "# Alternatively...\n",
    "\n",
    "with tf2x.Session() as sess:\n",
    "    a = tf.ones((3,3)) - tf.zeros((3,3))\n",
    "    print(sess.run(a))\n",
    "    \n",
    "a.eval()"
   ]
  },
  {
   "cell_type": "code",
   "execution_count": 8,
   "metadata": {},
   "outputs": [
    {
     "data": {
      "text/plain": [
       "array([[1., 1., 1.],\n",
       "       [1., 1., 1.],\n",
       "       [1., 1., 1.]], dtype=float32)"
      ]
     },
     "execution_count": 8,
     "metadata": {},
     "output_type": "execute_result"
    }
   ],
   "source": [
    "# Using the eval function...\n",
    "\n",
    "with tf2x.Session() as sess:\n",
    "    a = tf.ones((3,3)) - tf.zeros((3,3)) \n",
    "    a = sess.run(a)\n",
    "    a\n",
    "    \n",
    "# The eval function can be called outside the condition statement as shown below to get the 'numpy.ndarray' type,\n",
    "# likewise the sess.run() function \n",
    "\n",
    "a.eval()"
   ]
  },
  {
   "cell_type": "code",
   "execution_count": 64,
   "metadata": {},
   "outputs": [
    {
     "ename": "AttributeError",
     "evalue": "'numpy.ndarray' object has no attribute 'eval'",
     "output_type": "error",
     "traceback": [
      "\u001b[1;31m---------------------------------------------------------------------------\u001b[0m",
      "\u001b[1;31mAttributeError\u001b[0m                            Traceback (most recent call last)",
      "\u001b[1;32m<ipython-input-64-98810c4e5dea>\u001b[0m in \u001b[0;36m<module>\u001b[1;34m\u001b[0m\n\u001b[0;32m      3\u001b[0m \u001b[1;32mwith\u001b[0m \u001b[0mtf2x\u001b[0m\u001b[1;33m.\u001b[0m\u001b[0mSession\u001b[0m\u001b[1;33m(\u001b[0m\u001b[1;33m)\u001b[0m \u001b[1;32mas\u001b[0m \u001b[0msess\u001b[0m\u001b[1;33m:\u001b[0m\u001b[1;33m\u001b[0m\u001b[1;33m\u001b[0m\u001b[0m\n\u001b[0;32m      4\u001b[0m     \u001b[0ma\u001b[0m \u001b[1;33m=\u001b[0m \u001b[0mtf\u001b[0m\u001b[1;33m.\u001b[0m\u001b[0mones\u001b[0m\u001b[1;33m(\u001b[0m\u001b[1;33m[\u001b[0m\u001b[1;36m3\u001b[0m\u001b[1;33m,\u001b[0m\u001b[1;36m3\u001b[0m\u001b[1;33m]\u001b[0m\u001b[1;33m)\u001b[0m \u001b[1;33m-\u001b[0m \u001b[0mtf\u001b[0m\u001b[1;33m.\u001b[0m\u001b[0mzeros\u001b[0m\u001b[1;33m(\u001b[0m\u001b[1;33m[\u001b[0m\u001b[1;36m3\u001b[0m\u001b[1;33m,\u001b[0m\u001b[1;36m3\u001b[0m\u001b[1;33m]\u001b[0m\u001b[1;33m)\u001b[0m\u001b[1;33m\u001b[0m\u001b[1;33m\u001b[0m\u001b[0m\n\u001b[1;32m----> 5\u001b[1;33m     \u001b[0mprint\u001b[0m\u001b[1;33m(\u001b[0m\u001b[0msess\u001b[0m\u001b[1;33m.\u001b[0m\u001b[0mrun\u001b[0m\u001b[1;33m(\u001b[0m\u001b[0ma\u001b[0m\u001b[1;33m)\u001b[0m\u001b[1;33m.\u001b[0m\u001b[0meval\u001b[0m\u001b[1;33m(\u001b[0m\u001b[1;33m)\u001b[0m\u001b[1;33m)\u001b[0m\u001b[1;33m\u001b[0m\u001b[1;33m\u001b[0m\u001b[0m\n\u001b[0m\u001b[0;32m      6\u001b[0m     \u001b[0msess\u001b[0m\u001b[1;33m.\u001b[0m\u001b[0mclose\u001b[0m\u001b[1;33m(\u001b[0m\u001b[1;33m)\u001b[0m\u001b[1;33m\u001b[0m\u001b[1;33m\u001b[0m\u001b[0m\n\u001b[0;32m      7\u001b[0m \u001b[1;33m\u001b[0m\u001b[0m\n",
      "\u001b[1;31mAttributeError\u001b[0m: 'numpy.ndarray' object has no attribute 'eval'"
     ]
    }
   ],
   "source": [
    "# A session can be closed by calling the 'sess.close()' function \n",
    "\n",
    "with tf2x.Session() as sess:\n",
    "    a = tf.ones([3,3]) - tf.zeros([3,3])  \n",
    "    print(sess.run(a).eval())\n",
    "    sess.close()\n",
    "    "
   ]
  },
  {
   "cell_type": "code",
   "execution_count": 63,
   "metadata": {},
   "outputs": [
    {
     "name": "stdout",
     "output_type": "stream",
     "text": [
      "-1\n"
     ]
    }
   ],
   "source": [
    "with tf2x.Session() as sess:\n",
    "    a = tf.constant(3) - tf.constant(4)\n",
    "    print(a.eval())"
   ]
  }
 ],
 "metadata": {
  "kernelspec": {
   "display_name": "Python 3",
   "language": "python",
   "name": "python3"
  },
  "language_info": {
   "codemirror_mode": {
    "name": "ipython",
    "version": 3
   },
   "file_extension": ".py",
   "mimetype": "text/x-python",
   "name": "python",
   "nbconvert_exporter": "python",
   "pygments_lexer": "ipython3",
   "version": "3.7.4"
  }
 },
 "nbformat": 4,
 "nbformat_minor": 2
}
