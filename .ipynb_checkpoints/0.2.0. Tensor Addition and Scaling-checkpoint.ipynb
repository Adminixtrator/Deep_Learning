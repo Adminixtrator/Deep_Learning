{
 "cells": [
  {
   "cell_type": "code",
   "execution_count": 1,
   "metadata": {},
   "outputs": [
    {
     "data": {
      "text/plain": [
       "<tensorflow.python.client.session.InteractiveSession at 0xb7d5cf6748>"
      ]
     },
     "execution_count": 1,
     "metadata": {},
     "output_type": "execute_result"
    }
   ],
   "source": [
    "# Created by: ADMINIXTRATOR             Date: 9th January, 2020\n",
    "# Twitter: Adminixtrator                Email: minixtrator@gmail.com\n",
    "# \n",
    "# Pyton verson: 3.7.4 amd64 (64-bit)    TensorFlow: 2.0.0\n",
    "\n",
    "import tensorflow as tf\n",
    "\n",
    "tf2x = tf.compat.v1\n",
    "tf2x.InteractiveSession()"
   ]
  },
  {
   "cell_type": "code",
   "execution_count": 2,
   "metadata": {},
   "outputs": [
    {
     "name": "stdout",
     "output_type": "stream",
     "text": [
      "6\n"
     ]
    }
   ],
   "source": [
    "# Before proceeding, please note that a session can be created independently\n",
    "# The 'tf.Session()' attribute is used in 1x so we will be using 'tf2x' - as defined as 'tf.compat.v1'\n",
    "# By calling 'sess.run()', the operation within the condition is executed and the result is a 'numpy.ndarray' type\n",
    "\n",
    "\n",
    "#      TensorFlow 1x \n",
    " \n",
    "'''    \n",
    "    sess = tf.Session()\n",
    "    print(sess.run(tf.constant(2) + tf.constant(4)))\n",
    "    sess.close()\n",
    "    \n",
    "'''\n",
    "\n",
    "#    WHICH WILL NOT WORK IN 2x\n",
    "\n",
    "#     TensorFlow 2x\n",
    "\n",
    "with tf2x.Session() as sess:\n",
    "    print(sess.run(tf.constant(2) + tf.constant(4)))\n",
    "    \n",
    "# You cannot use the 'sess.run()' function and eval attribute together since they are of the same type\n",
    "# Recall that we made mention of 'tf.eval()' function being equal to 'np.ndarray()'\n",
    "# The session is closed to release resources"
   ]
  },
  {
   "cell_type": "code",
   "execution_count": 3,
   "metadata": {
    "scrolled": true
   },
   "outputs": [
    {
     "name": "stdout",
     "output_type": "stream",
     "text": [
      "[[ 0.691834   -0.630688    0.00737901 -1.6845964  -0.5796103  -0.04547506\n",
      "   0.09652811 -0.40031895 -0.01294658  1.660713    0.94868934  1.5483656\n",
      "  -0.926146    0.5385128  -0.9217892   0.8686556  -0.06881471 -0.73241633\n",
      "   0.9593492  -0.56229126]\n",
      " [ 0.33628365  1.3034931   0.36637694 -1.1503674  -1.2110288  -0.72602934\n",
      "   0.28544113 -0.09794171  1.1126565   1.5208669  -1.1506116  -0.3276624\n",
      "  -0.9258054   0.50819886  0.09222075 -0.64237654  0.12364297 -0.3167472\n",
      "   0.05431825 -0.04666695]\n",
      " [-0.39129284 -0.20446533 -0.04757285 -0.62348604  0.06129771 -0.1259803\n",
      "  -1.524439   -0.7639453   0.14984724  0.47065526 -1.4722745  -1.204934\n",
      "   0.13486291  1.8245664  -0.45310736 -1.7509024  -0.6115179   0.6310626\n",
      "   0.9052881  -0.4720887 ]\n",
      " [-0.8917792   0.4829569   1.3086864   0.0466794  -0.15981463 -0.4121932\n",
      "  -1.0493098  -1.6552056  -1.8952951  -0.14077714 -0.51057893 -1.9305142\n",
      "   0.1879356   1.1149416  -0.3030559  -0.53285307 -0.9209155   0.41522494\n",
      "   0.4421398   0.49871078]\n",
      " [ 1.0853344  -1.1088618   0.38338125 -1.0105399   0.81406873  1.2287427\n",
      "  -1.228928    1.2477908   0.69666654 -0.40654054  0.75598943 -0.49014413\n",
      "  -0.8207312  -0.8689272  -1.0277146  -0.6020755   0.3666771  -1.5982721\n",
      "   0.26903635 -0.32568157]\n",
      " [-0.05602371  0.05492232 -0.547085   -0.1567516  -0.4346341  -0.2366745\n",
      "   0.45546702 -0.0304164   0.432295   -1.3791636  -0.4258804  -0.57912785\n",
      "   0.7145662   0.07773428  0.98164815 -1.3285404   0.02979855  0.54337233\n",
      "   1.1346316  -0.45080855]\n",
      " [ 1.4561648   0.5515717  -0.00268884  0.49678725  0.71260554 -1.1027269\n",
      "  -0.24824688 -0.5764744  -1.1547505   0.21894605 -0.15664276 -0.04056333\n",
      "   0.3063064  -1.3268623   1.0305829   1.4697635   1.4523656   0.18559642\n",
      "  -0.5517673  -0.22677825]\n",
      " [-0.04426219  0.10692944  0.76929677  0.7903446   1.4485606   0.8381004\n",
      "  -0.00208689  0.18400648 -1.4327967  -1.1581001  -0.49444672 -0.5126376\n",
      "  -0.08999873 -0.7530457  -0.11343758 -0.5125888  -0.75935054 -1.0826935\n",
      "   0.39151287  0.25153887]\n",
      " [ 1.4954747   1.4702108   0.4623333   1.3325568  -0.9460556   0.42738065\n",
      "   1.7945299   0.82802826  0.10107318  0.33834246 -0.13700947  0.8306108\n",
      "   0.29856008  0.3024102   0.40710512 -0.58927304  0.03671726 -1.017112\n",
      "   0.2617014   1.3315103 ]\n",
      " [ 1.0120733   0.07548131 -0.7622988   0.61903447  1.6794324   1.6619133\n",
      "   0.2978299  -0.43182266 -0.97338295  0.58460885 -1.0065233  -0.5259789\n",
      "   0.2283311  -0.9724076   0.9899979  -0.7262202   0.767202    1.8850001\n",
      "  -0.28794053 -0.4606093 ]\n",
      " [ 1.5053345  -0.6757805   1.8185476   0.60089403 -1.7938367   0.5128711\n",
      "   1.2452399  -0.78122556  0.22558987  0.2733499   0.79588723  0.76813877\n",
      "  -0.5234278  -0.77218044  1.5414988  -0.52044404  0.15536647  0.92686415\n",
      "   0.35032085 -0.36409023]\n",
      " [ 0.27961585 -0.9617164   0.05166702  0.9699904   0.87842304  1.7318311\n",
      "  -0.05226037  0.21345647 -0.03498074 -1.516884   -0.806888   -0.98663586\n",
      "  -1.1087476  -0.3495771  -0.36421296 -1.6044228  -1.5525855   0.19216342\n",
      "  -0.9644009   0.11466999]\n",
      " [ 0.18777789 -0.57432324  0.21735762  1.6032612  -0.22110581  0.9199519\n",
      "   0.09699151  0.828564   -0.33406135 -0.6097011   1.2737268  -0.01461272\n",
      "  -1.2028629  -0.28893661 -0.67034924 -0.2555171   0.9870807  -0.14480452\n",
      "  -0.6156929   0.5232596 ]\n",
      " [-0.9196359  -1.563096    0.6124107  -0.32792148  0.6187487  -1.4220511\n",
      "  -1.1403923  -0.71718144 -1.0715268   1.7278216  -0.6991544   0.09088285\n",
      "  -0.88531256 -0.14686497  1.4049172   1.3699872   0.66565496  0.10725258\n",
      "   1.4522111  -1.2845304 ]\n",
      " [ 0.1699909   0.5371376  -0.10804716 -0.86448663  0.57238215  1.6473612\n",
      "   1.731894   -0.4371298  -1.4131544   1.2193788   0.08904218  0.23008096\n",
      "   0.7883733  -1.809304    0.64032096 -1.6431814  -0.3430453   1.0589937\n",
      "   0.7984034   0.6023437 ]\n",
      " [ 0.89245147 -0.30165908  1.5973105   1.4848133   0.24129912  0.08149669\n",
      "   0.4463373   0.59911644  1.7752784  -0.47113338 -1.9328264  -0.32852378\n",
      "   0.714614   -1.0711064   1.2247456  -0.40256435 -0.12237134  0.4216117\n",
      "  -0.76625794  0.16911967]\n",
      " [ 0.46416298 -1.0266144  -0.4970586   0.01958694 -0.9114898   0.49674776\n",
      "  -0.7124171  -1.2856933  -0.5562218   0.8539244  -0.01433312  1.7204895\n",
      "  -0.319273    0.5164673   0.45554772  0.92386115 -0.46508163 -0.43293506\n",
      "   0.7473193  -1.1770811 ]\n",
      " [-0.11495082 -0.45307112 -1.151491   -0.5250259  -0.6858114   0.6946564\n",
      "   0.8043675  -0.4089872   0.00202566 -0.04777245 -1.260645    0.79621637\n",
      "  -0.940981   -1.4370978  -0.47000927  0.9230957   0.45154783 -1.2931793\n",
      "   0.5157741   0.98627275]\n",
      " [-0.2640294   0.78147376 -1.9684113  -0.9516112  -0.07016367 -1.1877608\n",
      "  -1.785752   -1.1121349   0.07041837  0.69572204  1.5755756   1.5774177\n",
      "   0.3091855   0.53714204 -0.49568745  0.72639465  0.43183625 -0.3922912\n",
      "   0.90854585 -1.638854  ]\n",
      " [ 0.24505445  0.03718746 -1.528093   -1.1091514  -1.1325271  -0.86729723\n",
      "  -0.84679765  0.58600914 -0.83555686 -0.16366266  1.1542552  -0.0101286\n",
      "   0.97016853  0.96066546 -0.28115195  0.10654658 -0.70752865  0.9548839\n",
      "  -1.0101202   0.4249094 ]]\n"
     ]
    }
   ],
   "source": [
    "# Here is an example of the eval function used outside the IntereactiveSession\n",
    "\n",
    "with tf2x.Session() as sess:\n",
    "    print(tf2x.truncated_normal((20,20), mean=0, stddev=1).eval())\n",
    "    sess.close()"
   ]
  },
  {
   "cell_type": "code",
   "execution_count": 4,
   "metadata": {},
   "outputs": [
    {
     "data": {
      "text/plain": [
       "6"
      ]
     },
     "execution_count": 4,
     "metadata": {},
     "output_type": "execute_result"
    }
   ],
   "source": [
    "# It can be done as easily as shown below in the interactive session\n",
    "\n",
    "(tf.constant(2) + tf.constant(4)).numpy()"
   ]
  },
  {
   "cell_type": "code",
   "execution_count": 5,
   "metadata": {},
   "outputs": [
    {
     "data": {
      "text/plain": [
       "array([[1., 1., 1.],\n",
       "       [1., 1., 1.],\n",
       "       [1., 1., 1.]], dtype=float32)"
      ]
     },
     "execution_count": 5,
     "metadata": {},
     "output_type": "execute_result"
    }
   ],
   "source": [
    "# Tensors can also be Subtracted\n",
    "\n",
    "a = tf.ones((3,3)) - tf.zeros((3,3))\n",
    "a.numpy()"
   ]
  },
  {
   "cell_type": "code",
   "execution_count": 6,
   "metadata": {},
   "outputs": [
    {
     "data": {
      "text/plain": [
       "array([[1., 1., 1.],\n",
       "       [1., 1., 1.],\n",
       "       [1., 1., 1.]], dtype=float32)"
      ]
     },
     "execution_count": 6,
     "metadata": {},
     "output_type": "execute_result"
    }
   ],
   "source": [
    "# Alternatively...\n",
    "\n",
    "with tf2x.Session() as sess:\n",
    "    a = tf.ones((3,3)) - tf.zeros((3,3))\n",
    "    sess.close()\n",
    "a.eval()\n",
    "\n",
    "# The eval function converts the tensors to a 'numpy.ndarray' type"
   ]
  },
  {
   "cell_type": "code",
   "execution_count": 7,
   "metadata": {},
   "outputs": [
    {
     "data": {
      "text/plain": [
       "array([[0., 0., 0.],\n",
       "       [0., 0., 0.],\n",
       "       [0., 0., 0.]], dtype=float32)"
      ]
     },
     "execution_count": 7,
     "metadata": {},
     "output_type": "execute_result"
    }
   ],
   "source": [
    "# Tensors can also be multiplied. \n",
    "# Note that the multiplication is done differently when dealing with matrices\n",
    "\n",
    "with tf2x.Session() as sess:\n",
    "    a = tf.ones((3,3)) * tf.zeros((3,3)) \n",
    "    sess.close()\n",
    "    \n",
    "a.eval()"
   ]
  },
  {
   "cell_type": "code",
   "execution_count": null,
   "metadata": {},
   "outputs": [],
   "source": []
  },
  {
   "cell_type": "code",
   "execution_count": null,
   "metadata": {},
   "outputs": [],
   "source": [
    "#                        NEXT == Matrix Operations"
   ]
  }
 ],
 "metadata": {
  "kernelspec": {
   "display_name": "Python 3",
   "language": "python",
   "name": "python3"
  },
  "language_info": {
   "codemirror_mode": {
    "name": "ipython",
    "version": 3
   },
   "file_extension": ".py",
   "mimetype": "text/x-python",
   "name": "python",
   "nbconvert_exporter": "python",
   "pygments_lexer": "ipython3",
   "version": "3.7.4"
  }
 },
 "nbformat": 4,
 "nbformat_minor": 2
}
