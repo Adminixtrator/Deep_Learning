{
 "cells": [
  {
   "cell_type": "code",
   "execution_count": 1,
   "metadata": {},
   "outputs": [
    {
     "data": {
      "text/plain": [
       "<tensorflow.python.client.session.InteractiveSession at 0x1cdb465ce80>"
      ]
     },
     "execution_count": 1,
     "metadata": {},
     "output_type": "execute_result"
    }
   ],
   "source": [
    "# Created by: ADMINIXTRATOR             Date: 9th January, 2020\n",
    "# Twitter: Adminixtrator                Email: minixtrator@gmail.com\n",
    "# \n",
    "# Pyton verson: 3.7.4 amd64 (64-bit)    TensorFlow: 2.0.0\n",
    "\n",
    "import tensorflow as tf\n",
    "\n",
    "tf2x = tf.compat.v1\n",
    "tf2x.InteractiveSession()"
   ]
  },
  {
   "cell_type": "code",
   "execution_count": 2,
   "metadata": {},
   "outputs": [
    {
     "name": "stdout",
     "output_type": "stream",
     "text": [
      "6\n"
     ]
    }
   ],
   "source": [
    "# Before proceeding, please note that a session can be created independently\n",
    "# The 'tf.Session()' attribute is used in 1x so we will be using 'tf2x' - as defined as 'tf.compat.v1'\n",
    "# By calling 'sess.run()', the operation within the condition is executed and the result is a 'numpy.ndarray' type\n",
    "\n",
    "\n",
    "#      TensorFlow 1x \n",
    " \n",
    "'''    \n",
    "    sess = tf.Session()\n",
    "    print(sess.run(tf.constant(2) + tf.constant(4)))\n",
    "    sess.close()\n",
    "    \n",
    "'''\n",
    "\n",
    "#    WHICH WILL NOT WORK IN 2x\n",
    "\n",
    "#     TensorFlow 2x\n",
    "\n",
    "with tf2x.Session() as sess:\n",
    "    print(sess.run(tf.constant(2) + tf.constant(4)))\n",
    "    \n",
    "# You cannot use the 'sess.run()' function and eval attribute together since they are of the same type\n",
    "# Recall that we made mention of 'tf.eval()' function being equal to 'np.ndarray()'\n",
    "# The session is closed to release resources"
   ]
  },
  {
   "cell_type": "code",
   "execution_count": 3,
   "metadata": {
    "scrolled": true
   },
   "outputs": [
    {
     "name": "stdout",
     "output_type": "stream",
     "text": [
      "[[-0.30963212  0.89187014  0.94818175 -0.7176854   1.3522936   0.6428786\n",
      "  -0.8610955  -0.34661308 -1.2669257  -0.45080703 -1.4381582   1.2245524\n",
      "   0.5273547  -0.8323933  -0.6154912  -1.3190627  -0.23010336  1.0768483\n",
      "   0.8555054  -0.26485616]\n",
      " [-1.7728317   1.4536175  -1.9238998   0.33652034 -0.0752271  -0.27908212\n",
      "  -0.68940824  0.19379255 -0.8367442   0.6339381   1.3692926  -0.49736357\n",
      "  -0.9812311   0.9305669   0.16810067  1.5871695  -0.3572507   0.12692547\n",
      "   1.481314    1.3755536 ]\n",
      " [ 1.6087134   0.40970677  1.4448001  -0.01533821 -0.48541522 -0.10579468\n",
      "  -0.7579039  -0.08360937 -0.7727779   1.117999    0.6461958  -0.2057039\n",
      "   0.7471951  -0.72026414 -0.13088425 -0.50494725 -1.3942958   0.5811712\n",
      "  -1.9333937  -0.24739316]\n",
      " [ 0.19997019 -1.6479572   1.0394908  -1.8281347   0.24522674 -0.17472681\n",
      "   1.2521695   0.24121197 -0.967733    1.7748343   1.2848732  -0.91296315\n",
      "  -0.905529   -0.19147381  0.1763249   1.0177149   1.4498966  -0.7243502\n",
      "   0.46320453 -0.9796828 ]\n",
      " [ 0.23316571  1.5783669   0.7425842  -0.68656975  1.5028237  -0.5918736\n",
      "   1.036541    0.68667686 -0.59371066  0.00772803  0.45045704 -1.0992882\n",
      "  -1.0415368   1.0215421   1.74985     0.5736724   1.7339962  -0.07161044\n",
      "   0.2813385   0.9673601 ]\n",
      " [ 0.5126501   1.5173678   0.8698136  -0.06867895 -1.7877017  -0.03154875\n",
      "  -0.31624246  0.6439511   0.4769128   0.04184996 -0.22012055  0.47550833\n",
      "  -0.59165686  0.88024545 -0.15473793 -0.19660242 -0.47107702 -1.745112\n",
      "   0.29127133 -0.7701573 ]\n",
      " [ 1.2853932   0.72972673 -1.9013325  -0.01604973 -0.0958515  -0.4479853\n",
      "   0.79293585 -0.20520243  1.4108803  -0.7374833  -0.65900713  0.93939453\n",
      "   0.38931257 -0.8959132  -0.03465171  1.6007742  -0.35009897  1.2684847\n",
      "  -1.0325291   1.7069985 ]\n",
      " [ 1.1435217  -0.4027161  -0.3098954  -0.8268391  -0.45509732 -1.099324\n",
      "  -0.66470784  0.17289902  0.707608   -0.02501407  0.72650915  0.52427244\n",
      "  -1.091665   -1.0820798   0.31029174  1.4841883  -0.20804831 -0.49695438\n",
      "  -1.3046898  -0.40085286]\n",
      " [-0.6984194   0.5333132   0.2515817  -0.69244134  0.25940835 -0.6063394\n",
      "   0.05370485 -1.2076313   0.24832974  1.3910075   1.0466998  -0.7023006\n",
      "   0.5371944  -1.4120423   0.51169366  0.01139793  0.4634664   1.2480301\n",
      "  -1.5302556  -0.3641507 ]\n",
      " [ 0.48075593 -0.17338812 -0.5135774  -0.7616612  -0.5376381  -0.66126347\n",
      "  -1.1537056  -0.17819068 -1.1439502  -0.04850729 -0.30543503  0.6518016\n",
      "   0.45412686  0.89989626 -0.07993463 -0.0966154   1.0770316  -0.4897879\n",
      "   0.11608596  1.0365478 ]\n",
      " [ 0.23377854 -0.04921144  0.48225012  1.5777568  -0.03921853 -0.31590104\n",
      "  -1.2563249   0.03610706 -1.2894102   0.70142204  0.05119087  0.0873118\n",
      "   0.422549    0.01767803 -0.18723954 -0.54952973  0.20041336 -1.7713655\n",
      "  -0.26234722 -0.89592564]\n",
      " [-0.3079699   0.8459251  -1.1209538   0.54513246 -0.83759296  1.416818\n",
      "  -0.43774712  1.3608013  -0.9433681   0.15660354 -0.93274635 -0.6226582\n",
      "   0.18453728  0.9382089  -1.0838871  -0.31753036 -1.4922603  -0.03080517\n",
      "  -0.8345807   0.6563519 ]\n",
      " [-0.19320758 -0.55857676  0.68868124  0.52312803  0.5909394  -0.88706607\n",
      "   1.0807062   1.656457   -0.7235322   1.3052841  -0.5596978   1.3105696\n",
      "   0.37486517 -0.11172803 -0.83915967 -0.6447757   0.63714755 -0.21120574\n",
      "   0.8319849  -1.0754145 ]\n",
      " [-0.38385418  0.18119776 -0.38301104 -0.21324165  0.03295962 -1.0415887\n",
      "  -0.00812464  1.9776266  -0.06935997 -0.4848741   0.17136417  0.48076308\n",
      "   0.60982513 -0.9135489  -0.03649164 -0.7050626  -0.50888354 -1.9593514\n",
      "  -1.1719104  -1.0564636 ]\n",
      " [-0.4568991   1.9371536  -1.4533397  -0.0966732   0.99084663 -0.28338674\n",
      "   0.6731056   0.06745444  0.7474823  -1.3326997   0.7770893  -0.84557474\n",
      "   0.02250164 -1.5356115   0.24298058 -0.8371529   0.70685846  1.0358855\n",
      "   0.040118   -0.6571753 ]\n",
      " [-1.5650641  -0.7928613  -1.6642357  -1.9640987  -0.9343594   1.3973589\n",
      "  -0.09823593 -0.8839787  -1.326324    0.12239023 -0.864928    0.73786473\n",
      "   0.09819848  1.5436802   0.41734216 -1.1594585  -0.7569945   0.70033354\n",
      "  -0.19332018 -0.24050145]\n",
      " [-0.46693826 -1.3279581  -1.4500301  -0.88081014 -1.1779623  -0.04817429\n",
      "  -0.96576107 -1.1863124   1.6620594   1.2457007   1.3049263   0.22678462\n",
      "  -0.3330405  -0.82522607  0.857532   -0.44631281 -1.4018972  -0.851736\n",
      "   1.72626    -0.07313659]\n",
      " [ 0.5242277  -0.53437895  0.23330556 -0.65775996 -1.2958733   0.9966905\n",
      "   1.1223779  -0.970511    1.3704963   0.89684653 -0.08767483  0.8533117\n",
      "   0.15272135 -0.59179044  0.17175116  0.15364419 -0.00758217  0.31011224\n",
      "  -1.0485865   1.0089089 ]\n",
      " [-0.28069243  1.0391392  -0.36795357  0.4397506   0.86812246 -1.4869895\n",
      "  -0.6932178  -0.21992278 -1.777349    0.54522055 -0.09951022 -0.92427474\n",
      "   0.51826644 -0.5899274   0.1677048   1.1393569  -0.7211563   0.8456775\n",
      "  -0.8735753   1.8581529 ]\n",
      " [ 0.04705014  0.83529395 -0.00782827  0.30070108 -0.5752834  -1.0135001\n",
      "   0.12748432  0.67052865 -0.6420531   0.5077063  -1.3973064  -0.39891803\n",
      "   1.1052474   1.4395251   0.23872176  0.18318352  0.06006051  0.04884683\n",
      "  -0.25663045  0.8544762 ]]\n"
     ]
    }
   ],
   "source": [
    "# Here is an example of the eval function used outside the IntereactiveSession\n",
    "\n",
    "with tf2x.Session() as sess:\n",
    "    print(tf2x.truncated_normal((20,20), mean=0, stddev=1).eval())\n",
    "    sess.close()"
   ]
  },
  {
   "cell_type": "code",
   "execution_count": 4,
   "metadata": {},
   "outputs": [
    {
     "data": {
      "text/plain": [
       "6"
      ]
     },
     "execution_count": 4,
     "metadata": {},
     "output_type": "execute_result"
    }
   ],
   "source": [
    "# It can be done as easily as shown below in the interactive session\n",
    "\n",
    "(tf.constant(2) + tf.constant(4)).numpy()"
   ]
  },
  {
   "cell_type": "code",
   "execution_count": 5,
   "metadata": {},
   "outputs": [
    {
     "data": {
      "text/plain": [
       "<tf.Tensor: id=15, shape=(), dtype=int32, numpy=6>"
      ]
     },
     "execution_count": 5,
     "metadata": {},
     "output_type": "execute_result"
    }
   ],
   "source": [
    "# This can also be done using the 'tf.add()' attribute\n",
    "\n",
    "tf.add(tf.constant(2), tf.constant(4), name=None)"
   ]
  },
  {
   "cell_type": "code",
   "execution_count": 6,
   "metadata": {},
   "outputs": [
    {
     "data": {
      "text/plain": [
       "array([[1., 1., 1.],\n",
       "       [1., 1., 1.],\n",
       "       [1., 1., 1.]], dtype=float32)"
      ]
     },
     "execution_count": 6,
     "metadata": {},
     "output_type": "execute_result"
    }
   ],
   "source": [
    "# Tensors can also be Subtracted\n",
    "\n",
    "a = tf.ones((3,3)) - tf.zeros((3,3))\n",
    "a.numpy()"
   ]
  },
  {
   "cell_type": "code",
   "execution_count": 7,
   "metadata": {},
   "outputs": [
    {
     "data": {
      "text/plain": [
       "array([[1., 1., 1.],\n",
       "       [1., 1., 1.],\n",
       "       [1., 1., 1.]], dtype=float32)"
      ]
     },
     "execution_count": 7,
     "metadata": {},
     "output_type": "execute_result"
    }
   ],
   "source": [
    "# Alternatively...\n",
    "\n",
    "with tf2x.Session() as sess:\n",
    "    a = tf.ones((3,3)) - tf.zeros((3,3))\n",
    "    sess.close()\n",
    "a.eval()\n",
    "\n",
    "# The eval function converts the tensors to a 'numpy.ndarray' type"
   ]
  },
  {
   "cell_type": "code",
   "execution_count": 8,
   "metadata": {},
   "outputs": [
    {
     "data": {
      "text/plain": [
       "<tf.Tensor: id=28, shape=(), dtype=int32, numpy=-2>"
      ]
     },
     "execution_count": 8,
     "metadata": {},
     "output_type": "execute_result"
    }
   ],
   "source": [
    "# This can also be done using the 'tf.subtract()' attribute\n",
    "\n",
    "tf.subtract(tf.constant(2), tf.constant(4), name=None)"
   ]
  },
  {
   "cell_type": "code",
   "execution_count": 9,
   "metadata": {},
   "outputs": [
    {
     "data": {
      "text/plain": [
       "array([[0., 0., 0.],\n",
       "       [0., 0., 0.],\n",
       "       [0., 0., 0.]], dtype=float32)"
      ]
     },
     "execution_count": 9,
     "metadata": {},
     "output_type": "execute_result"
    }
   ],
   "source": [
    "# Tensors can also be multiplied. \n",
    "# Note that the multiplication is done differently when dealing with matrices\n",
    "\n",
    "with tf2x.Session() as sess:\n",
    "    a = tf.ones((3,3)) * tf.zeros((3,3)) \n",
    "    sess.close()\n",
    "    \n",
    "a.eval()"
   ]
  },
  {
   "cell_type": "code",
   "execution_count": 13,
   "metadata": {},
   "outputs": [
    {
     "data": {
      "text/plain": [
       "array([[3., 3., 3.],\n",
       "       [3., 3., 3.],\n",
       "       [3., 3., 3.]], dtype=float32)"
      ]
     },
     "execution_count": 13,
     "metadata": {},
     "output_type": "execute_result"
    }
   ],
   "source": [
    "# Interactive session\n",
    "\n",
    "(float(tf.constant(3)) * tf.ones((3,3))).numpy()"
   ]
  },
  {
   "cell_type": "code",
   "execution_count": 14,
   "metadata": {},
   "outputs": [
    {
     "data": {
      "text/plain": [
       "8"
      ]
     },
     "execution_count": 14,
     "metadata": {},
     "output_type": "execute_result"
    }
   ],
   "source": [
    "# This can also be done using the 'tf.multiply()' attribute\n",
    "\n",
    "tf.multiply(tf.constant(2), tf.constant(4), name=None).numpy()"
   ]
  },
  {
   "cell_type": "code",
   "execution_count": 15,
   "metadata": {},
   "outputs": [
    {
     "data": {
      "text/plain": [
       "array([[inf, inf, inf],\n",
       "       [inf, inf, inf],\n",
       "       [inf, inf, inf]], dtype=float32)"
      ]
     },
     "execution_count": 15,
     "metadata": {},
     "output_type": "execute_result"
    }
   ],
   "source": [
    "# Tensors can also be divided. \n",
    "\n",
    "with tf2x.Session() as sess:\n",
    "    a = tf.ones((3,3)) / tf.zeros((3,3)) \n",
    "    sess.close()\n",
    "    \n",
    "a.eval()\n",
    "\n",
    "# 'inf' below means infinity"
   ]
  },
  {
   "cell_type": "code",
   "execution_count": 16,
   "metadata": {},
   "outputs": [
    {
     "ename": "TypeError",
     "evalue": "x and y must have the same dtype, got tf.float32 != tf.int32",
     "output_type": "error",
     "traceback": [
      "\u001b[1;31m---------------------------------------------------------------------------\u001b[0m",
      "\u001b[1;31mTypeError\u001b[0m                                 Traceback (most recent call last)",
      "\u001b[1;32m<ipython-input-16-818f6b54cf44>\u001b[0m in \u001b[0;36m<module>\u001b[1;34m\u001b[0m\n\u001b[0;32m      1\u001b[0m \u001b[1;31m# Interactive session\u001b[0m\u001b[1;33m\u001b[0m\u001b[1;33m\u001b[0m\u001b[1;33m\u001b[0m\u001b[0m\n\u001b[0;32m      2\u001b[0m \u001b[1;33m\u001b[0m\u001b[0m\n\u001b[1;32m----> 3\u001b[1;33m \u001b[1;33m(\u001b[0m\u001b[0mtf\u001b[0m\u001b[1;33m.\u001b[0m\u001b[0mones\u001b[0m\u001b[1;33m(\u001b[0m\u001b[1;33m(\u001b[0m\u001b[1;36m3\u001b[0m\u001b[1;33m,\u001b[0m\u001b[1;36m3\u001b[0m\u001b[1;33m)\u001b[0m\u001b[1;33m)\u001b[0m \u001b[1;33m/\u001b[0m \u001b[0mtf\u001b[0m\u001b[1;33m.\u001b[0m\u001b[0mconstant\u001b[0m\u001b[1;33m(\u001b[0m\u001b[1;36m3\u001b[0m\u001b[1;33m)\u001b[0m\u001b[1;33m)\u001b[0m\u001b[1;33m.\u001b[0m\u001b[0mnumpy\u001b[0m\u001b[1;33m(\u001b[0m\u001b[1;33m)\u001b[0m\u001b[1;33m\u001b[0m\u001b[1;33m\u001b[0m\u001b[0m\n\u001b[0m",
      "\u001b[1;32mc:\\users\\reigns nation\\appdata\\local\\programs\\python\\python37\\lib\\site-packages\\tensorflow_core\\python\\ops\\math_ops.py\u001b[0m in \u001b[0;36mbinary_op_wrapper\u001b[1;34m(x, y)\u001b[0m\n\u001b[0;32m    897\u001b[0m     \u001b[1;32mwith\u001b[0m \u001b[0mops\u001b[0m\u001b[1;33m.\u001b[0m\u001b[0mname_scope\u001b[0m\u001b[1;33m(\u001b[0m\u001b[1;32mNone\u001b[0m\u001b[1;33m,\u001b[0m \u001b[0mop_name\u001b[0m\u001b[1;33m,\u001b[0m \u001b[1;33m[\u001b[0m\u001b[0mx\u001b[0m\u001b[1;33m,\u001b[0m \u001b[0my\u001b[0m\u001b[1;33m]\u001b[0m\u001b[1;33m)\u001b[0m \u001b[1;32mas\u001b[0m \u001b[0mname\u001b[0m\u001b[1;33m:\u001b[0m\u001b[1;33m\u001b[0m\u001b[1;33m\u001b[0m\u001b[0m\n\u001b[0;32m    898\u001b[0m       \u001b[1;32mif\u001b[0m \u001b[0misinstance\u001b[0m\u001b[1;33m(\u001b[0m\u001b[0mx\u001b[0m\u001b[1;33m,\u001b[0m \u001b[0mops\u001b[0m\u001b[1;33m.\u001b[0m\u001b[0mTensor\u001b[0m\u001b[1;33m)\u001b[0m \u001b[1;32mand\u001b[0m \u001b[0misinstance\u001b[0m\u001b[1;33m(\u001b[0m\u001b[0my\u001b[0m\u001b[1;33m,\u001b[0m \u001b[0mops\u001b[0m\u001b[1;33m.\u001b[0m\u001b[0mTensor\u001b[0m\u001b[1;33m)\u001b[0m\u001b[1;33m:\u001b[0m\u001b[1;33m\u001b[0m\u001b[1;33m\u001b[0m\u001b[0m\n\u001b[1;32m--> 899\u001b[1;33m         \u001b[1;32mreturn\u001b[0m \u001b[0mfunc\u001b[0m\u001b[1;33m(\u001b[0m\u001b[0mx\u001b[0m\u001b[1;33m,\u001b[0m \u001b[0my\u001b[0m\u001b[1;33m,\u001b[0m \u001b[0mname\u001b[0m\u001b[1;33m=\u001b[0m\u001b[0mname\u001b[0m\u001b[1;33m)\u001b[0m\u001b[1;33m\u001b[0m\u001b[1;33m\u001b[0m\u001b[0m\n\u001b[0m\u001b[0;32m    900\u001b[0m       \u001b[1;32melif\u001b[0m \u001b[1;32mnot\u001b[0m \u001b[0misinstance\u001b[0m\u001b[1;33m(\u001b[0m\u001b[0my\u001b[0m\u001b[1;33m,\u001b[0m \u001b[0msparse_tensor\u001b[0m\u001b[1;33m.\u001b[0m\u001b[0mSparseTensor\u001b[0m\u001b[1;33m)\u001b[0m\u001b[1;33m:\u001b[0m\u001b[1;33m\u001b[0m\u001b[1;33m\u001b[0m\u001b[0m\n\u001b[0;32m    901\u001b[0m         \u001b[1;32mtry\u001b[0m\u001b[1;33m:\u001b[0m\u001b[1;33m\u001b[0m\u001b[1;33m\u001b[0m\u001b[0m\n",
      "\u001b[1;32mc:\\users\\reigns nation\\appdata\\local\\programs\\python\\python37\\lib\\site-packages\\tensorflow_core\\python\\ops\\math_ops.py\u001b[0m in \u001b[0;36m_truediv_python3\u001b[1;34m(x, y, name)\u001b[0m\n\u001b[0;32m    995\u001b[0m     \u001b[1;32mif\u001b[0m \u001b[0mx_dtype\u001b[0m \u001b[1;33m!=\u001b[0m \u001b[0my_dtype\u001b[0m\u001b[1;33m:\u001b[0m\u001b[1;33m\u001b[0m\u001b[1;33m\u001b[0m\u001b[0m\n\u001b[0;32m    996\u001b[0m       raise TypeError(\"x and y must have the same dtype, got %r != %r\" %\n\u001b[1;32m--> 997\u001b[1;33m                       (x_dtype, y_dtype))\n\u001b[0m\u001b[0;32m    998\u001b[0m     \u001b[1;32mtry\u001b[0m\u001b[1;33m:\u001b[0m\u001b[1;33m\u001b[0m\u001b[1;33m\u001b[0m\u001b[0m\n\u001b[0;32m    999\u001b[0m       \u001b[0mdtype\u001b[0m \u001b[1;33m=\u001b[0m \u001b[0m_TRUEDIV_TABLE\u001b[0m\u001b[1;33m[\u001b[0m\u001b[0mx_dtype\u001b[0m\u001b[1;33m]\u001b[0m\u001b[1;33m\u001b[0m\u001b[1;33m\u001b[0m\u001b[0m\n",
      "\u001b[1;31mTypeError\u001b[0m: x and y must have the same dtype, got tf.float32 != tf.int32"
     ]
    }
   ],
   "source": [
    "# Interactive session\n",
    "\n",
    "(tf.ones((3,3)) / float(tf.constant(3))).numpy()"
   ]
  },
  {
   "cell_type": "code",
   "execution_count": null,
   "metadata": {},
   "outputs": [],
   "source": [
    "# This can also be done using the 'tf.divide()' attribute\n",
    "# The 'tf.div()' divides using python2 division semantics\n",
    "\n",
    "tf.divide(tf.constant(2), tf.constant(4), name=None)"
   ]
  },
  {
   "cell_type": "code",
   "execution_count": null,
   "metadata": {},
   "outputs": [],
   "source": [
    "#                               NEXT == Matrix Operations"
   ]
  }
 ],
 "metadata": {
  "kernelspec": {
   "display_name": "Python 3",
   "language": "python",
   "name": "python3"
  },
  "language_info": {
   "codemirror_mode": {
    "name": "ipython",
    "version": 3
   },
   "file_extension": ".py",
   "mimetype": "text/x-python",
   "name": "python",
   "nbconvert_exporter": "python",
   "pygments_lexer": "ipython3",
   "version": "3.7.4"
  }
 },
 "nbformat": 4,
 "nbformat_minor": 2
}
