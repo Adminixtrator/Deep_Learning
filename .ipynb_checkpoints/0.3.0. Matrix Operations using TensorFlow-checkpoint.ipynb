{
 "cells": [
  {
   "cell_type": "code",
   "execution_count": 1,
   "metadata": {},
   "outputs": [
    {
     "data": {
      "text/plain": [
       "<tensorflow.python.client.session.InteractiveSession at 0xe9e1b5abc8>"
      ]
     },
     "execution_count": 1,
     "metadata": {},
     "output_type": "execute_result"
    }
   ],
   "source": [
    "# Created by: ADMINIXTRATOR             Date: 12th January, 2020\n",
    "# Twitter: Adminixtrator                Email: minixtrator@gmail.com\n",
    "# \n",
    "# Pyton verson: 3.7.4 amd64 (64-bit)    TensorFlow: 2.0.0\n",
    "\n",
    "import tensorflow as tf\n",
    "\n",
    "tf2x = tf.compat.v1\n",
    "tf2x.InteractiveSession()"
   ]
  },
  {
   "cell_type": "code",
   "execution_count": null,
   "metadata": {},
   "outputs": [],
   "source": [
    "# TensorFlow provides shortcuts to creating the most commonly used matrices\n",
    "# We will be starting with the identity matrix which is created with 'tf.eye()'\n",
    "\n"
   ]
  }
 ],
 "metadata": {
  "kernelspec": {
   "display_name": "Python 3",
   "language": "python",
   "name": "python3"
  },
  "language_info": {
   "codemirror_mode": {
    "name": "ipython",
    "version": 3
   },
   "file_extension": ".py",
   "mimetype": "text/x-python",
   "name": "python",
   "nbconvert_exporter": "python",
   "pygments_lexer": "ipython3",
   "version": "3.7.4"
  }
 },
 "nbformat": 4,
 "nbformat_minor": 2
}
